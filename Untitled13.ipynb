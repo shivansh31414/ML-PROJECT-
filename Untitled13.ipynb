{
 "cells": [
  {
   "cell_type": "code",
   "execution_count": null,
   "id": "2479e6d2-89fb-400e-87a6-4748fd2c1951",
   "metadata": {},
   "outputs": [
    {
     "name": "stdout",
     "output_type": "stream",
     "text": [
      "Requirement already satisfied: yfinance in e:\\xboxgames\\gamesave\\wgs\\lib\\site-packages (0.2.53)\n",
      "Requirement already satisfied: pandas>=1.3.0 in e:\\xboxgames\\gamesave\\wgs\\lib\\site-packages (from yfinance) (2.2.2)\n",
      "Requirement already satisfied: numpy>=1.16.5 in e:\\xboxgames\\gamesave\\wgs\\lib\\site-packages (from yfinance) (1.26.4)\n",
      "Requirement already satisfied: requests>=2.31 in e:\\xboxgames\\gamesave\\wgs\\lib\\site-packages (from yfinance) (2.32.3)\n",
      "Requirement already satisfied: multitasking>=0.0.7 in e:\\xboxgames\\gamesave\\wgs\\lib\\site-packages (from yfinance) (0.0.11)\n",
      "Requirement already satisfied: platformdirs>=2.0.0 in e:\\xboxgames\\gamesave\\wgs\\lib\\site-packages (from yfinance) (3.10.0)\n",
      "Requirement already satisfied: pytz>=2022.5 in e:\\xboxgames\\gamesave\\wgs\\lib\\site-packages (from yfinance) (2024.1)\n",
      "Requirement already satisfied: frozendict>=2.3.4 in e:\\xboxgames\\gamesave\\wgs\\lib\\site-packages (from yfinance) (2.4.2)\n",
      "Requirement already satisfied: peewee>=3.16.2 in e:\\xboxgames\\gamesave\\wgs\\lib\\site-packages (from yfinance) (3.17.9)\n",
      "Requirement already satisfied: beautifulsoup4>=4.11.1 in e:\\xboxgames\\gamesave\\wgs\\lib\\site-packages (from yfinance) (4.12.3)\n",
      "Requirement already satisfied: soupsieve>1.2 in e:\\xboxgames\\gamesave\\wgs\\lib\\site-packages (from beautifulsoup4>=4.11.1->yfinance) (2.5)\n",
      "Requirement already satisfied: python-dateutil>=2.8.2 in e:\\xboxgames\\gamesave\\wgs\\lib\\site-packages (from pandas>=1.3.0->yfinance) (2.9.0.post0)\n",
      "Requirement already satisfied: tzdata>=2022.7 in e:\\xboxgames\\gamesave\\wgs\\lib\\site-packages (from pandas>=1.3.0->yfinance) (2023.3)\n",
      "Requirement already satisfied: charset-normalizer<4,>=2 in e:\\xboxgames\\gamesave\\wgs\\lib\\site-packages (from requests>=2.31->yfinance) (3.3.2)\n",
      "Requirement already satisfied: idna<4,>=2.5 in e:\\xboxgames\\gamesave\\wgs\\lib\\site-packages (from requests>=2.31->yfinance) (3.7)\n",
      "Requirement already satisfied: urllib3<3,>=1.21.1 in e:\\xboxgames\\gamesave\\wgs\\lib\\site-packages (from requests>=2.31->yfinance) (2.2.3)\n",
      "Requirement already satisfied: certifi>=2017.4.17 in e:\\xboxgames\\gamesave\\wgs\\lib\\site-packages (from requests>=2.31->yfinance) (2024.8.30)\n",
      "Requirement already satisfied: six>=1.5 in e:\\xboxgames\\gamesave\\wgs\\lib\\site-packages (from python-dateutil>=2.8.2->pandas>=1.3.0->yfinance) (1.16.0)\n",
      "YF.download() has changed argument auto_adjust default to True\n"
     ]
    },
    {
     "name": "stderr",
     "output_type": "stream",
     "text": [
      "[*********************100%***********************]  1 of 1 completed"
     ]
    }
   ],
   "source": [
    "# Import necessary libraries\n",
    "import pandas as pd\n",
    "import numpy as np\n",
    "import matplotlib.pyplot as plt\n",
    "from sklearn.model_selection import train_test_split\n",
    "from sklearn.linear_model import LinearRegression\n",
    "\n",
    "# Step 1: Data Collection\n",
    "# You can use yfinance library to download stock data\n",
    "# Install yfinance\n",
    "import yfinance as yf\n",
    "# Step 1: Install yfinance\n",
    "!pip install yfinance\n",
    "\n",
    "\n",
    "# Download stock data for a specific ticker (e.g., AAPL for Apple)\n",
    "ticker = 'AAPL'\n",
    "data = yf.download(ticker, start='2020-01-01', end='2023-01-01')\n",
    "\n",
    "# Step 2: Data Preprocessing\n",
    "# Handle missing values, if any\n",
    "data.dropna(inplace=True)\n",
    "\n",
    "# Step 3: Feature Engineering\n",
    "# Create a new column for the target variable (next day's closing price)\n",
    "data['Target'] = data['Close'].shift(-1)\n",
    "\n",
    "# Drop the last row as it has NaN in 'Target'\n",
    "data = data[:-1]\n",
    "\n",
    "# Define features and target\n",
    "X = data[['Close']]\n",
    "y = data['Target']\n",
    "\n",
    "# Split the data into training and testing sets\n",
    "X_train, X_test, y_train, y_test = train_test_split(X, y, test_size=0.2, random_state=42)\n",
    "\n",
    "# Step 4: Model Selection\n",
    "# Train a Linear Regression model\n",
    "model = LinearRegression()\n",
    "model.fit(X_train, y_train)\n",
    "\n",
    "# Step 5: Prediction and Visualization\n",
    "# Make predictions\n",
    "predictions = model.predict(X_test)\n",
    "\n",
    "# Plot the actual vs predicted stock prices\n",
    "plt.figure(figsize=(10, 5))\n",
    "plt.plot(y_test.index, y_test, label='Actual Price')\n",
    "plt.plot(y_test.index, predictions, label='Predicted Price')\n",
    "plt.legend()\n",
    "plt.title('Stock Price Prediction')\n",
    "plt.xlabel('Date')\n",
    "plt.ylabel('Price')\n",
    "plt.show()\n"
   ]
  },
  {
   "cell_type": "code",
   "execution_count": null,
   "id": "abdcd544-16fc-4ffe-a37b-fdc816b3ffa4",
   "metadata": {},
   "outputs": [],
   "source": []
  }
 ],
 "metadata": {
  "kernelspec": {
   "display_name": "Python 3 (ipykernel)",
   "language": "python",
   "name": "python3"
  },
  "language_info": {
   "codemirror_mode": {
    "name": "ipython",
    "version": 3
   },
   "file_extension": ".py",
   "mimetype": "text/x-python",
   "name": "python",
   "nbconvert_exporter": "python",
   "pygments_lexer": "ipython3",
   "version": "3.12.7"
  }
 },
 "nbformat": 4,
 "nbformat_minor": 5
}
